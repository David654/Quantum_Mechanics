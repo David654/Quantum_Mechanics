{
 "cells": [
  {
   "metadata": {},
   "cell_type": "markdown",
   "source": [
    "# Project 2. Periodic Potentials in Quantum Mechanics\n",
    "David Lapidus - s5860679\n",
    "\n",
    "Ioan Leolea - s6039103\n",
    "\n",
    "Karlis Driba - s6009611\n",
    "\n",
    "Vainius Staškūnas - s5901154"
   ],
   "id": "e0ba3c0b4f288e6e"
  },
  {
   "metadata": {},
   "cell_type": "markdown",
   "source": [
    "## Abstract\n",
    "Aim of the project is to look in details to behaviour of a system with a periodic potential in one dimension, e.g. mono-crystal structure as semiconductors, and a simple two-dimensional model for a trapped particle.\n",
    "\n",
    "We will the natural units through this project.\n",
    "\n",
    "\n",
    "In this project we will use time-independent Schrödinger equation: $$\\frac{d^2\\psi(x)}{dx^2} = -\\frac{2m}{\\hbar^2}(E-V(x))\\psi(x).$$"
   ],
   "id": "f02cd30ceeaaa320"
  },
  {
   "metadata": {},
   "cell_type": "markdown",
   "source": "## Libraries",
   "id": "7f39754281cd90f2"
  },
  {
   "metadata": {
    "ExecuteTime": {
     "end_time": "2025-10-01T21:11:01.820621Z",
     "start_time": "2025-10-01T21:11:01.090923Z"
    }
   },
   "cell_type": "code",
   "source": [
    "import numpy as np\n",
    "import matplotlib.pyplot as plt"
   ],
   "id": "c0690a14ecb90b7f",
   "outputs": [],
   "execution_count": 1
  },
  {
   "metadata": {},
   "cell_type": "markdown",
   "source": "## Constants",
   "id": "7d1d9804a6839daf"
  },
  {
   "metadata": {},
   "cell_type": "code",
   "outputs": [],
   "execution_count": null,
   "source": [
    "POTENTIAL_DEPTH = 50    # V_0\n",
    "WELL_WIDTH = 1          # a\n",
    "WELL_RADIUS = 1         # R_0"
   ],
   "id": "c1742cda0cb50cfe"
  },
  {
   "metadata": {},
   "cell_type": "markdown",
   "source": "## 1. Periodic Potential",
   "id": "b0211cd8e4ff3d6c"
  },
  {
   "metadata": {},
   "cell_type": "markdown",
   "source": [
    "### Finite-depth Well Potential\n",
    "$$V(x)=\\begin{cases} V_0, & |x|>a/2, \\\\ 0,  & |x|\\leq a/2 \\end{cases},$$\n",
    "where $V_0 = 50$ is a depth of the potential and $a = 1$ - width of the well in natural units."
   ],
   "id": "aa538f7bab483ec"
  },
  {
   "metadata": {},
   "cell_type": "markdown",
   "source": "#### Energies and wave functions for bound states",
   "id": "5a1ce3535e7880c"
  },
  {
   "metadata": {
    "ExecuteTime": {
     "end_time": "2025-10-01T21:56:05.743798Z",
     "start_time": "2025-10-01T21:56:05.741320Z"
    }
   },
   "cell_type": "code",
   "source": "",
   "id": "160125f97e85af05",
   "outputs": [],
   "execution_count": null
  },
  {
   "metadata": {},
   "cell_type": "markdown",
   "source": "#### Probability outside the well for bound states",
   "id": "59f44731dab2dec0"
  },
  {
   "metadata": {
    "ExecuteTime": {
     "end_time": "2025-10-01T21:56:05.772750Z",
     "start_time": "2025-10-01T21:56:05.770459Z"
    }
   },
   "cell_type": "code",
   "source": "",
   "id": "7a23590cd33312d6",
   "outputs": [],
   "execution_count": null
  },
  {
   "metadata": {},
   "cell_type": "markdown",
   "source": "#### Estimation of precision of the results",
   "id": "12065354335fc528"
  },
  {
   "metadata": {
    "ExecuteTime": {
     "end_time": "2025-10-01T21:56:05.782893Z",
     "start_time": "2025-10-01T21:56:05.780501Z"
    }
   },
   "cell_type": "code",
   "source": "",
   "id": "e0815d2bb50d7f61",
   "outputs": [],
   "execution_count": null
  },
  {
   "metadata": {},
   "cell_type": "markdown",
   "source": "#### Energy levels and probabilities using the matrix method",
   "id": "38d86509493f1670"
  },
  {
   "metadata": {
    "ExecuteTime": {
     "end_time": "2025-10-01T21:56:05.791314Z",
     "start_time": "2025-10-01T21:56:05.789313Z"
    }
   },
   "cell_type": "code",
   "source": "",
   "id": "ae9e5335399414d7",
   "outputs": [],
   "execution_count": null
  },
  {
   "metadata": {},
   "cell_type": "markdown",
   "source": "#### Estimation of precision of the results",
   "id": "d009ed3ad25fb14d"
  },
  {
   "metadata": {
    "ExecuteTime": {
     "end_time": "2025-10-01T21:56:05.805427Z",
     "start_time": "2025-10-01T21:56:05.803285Z"
    }
   },
   "cell_type": "code",
   "source": "",
   "id": "f338c6f2a479af92",
   "outputs": [],
   "execution_count": null
  },
  {
   "metadata": {},
   "cell_type": "markdown",
   "source": [
    "### Finite-depth Potential with Two Wells\n",
    "$$V(x)=\\begin{cases} V_0, & |x|>d+a/2, \\\\ V_0,  & |x|<a/2, \\\\ 0, & \\text{elsewhere} \\end{cases},$$\n",
    "where $V_0 = 50$ is a depth of the potential, $a = 1$ and $d$ - width of each well and the distance between them in natural units."
   ],
   "id": "ee886fade9344ecf"
  },
  {
   "metadata": {},
   "cell_type": "markdown",
   "source": "#### Energies and wave functions for bound states",
   "id": "b01a959f9c3bcb05"
  },
  {
   "metadata": {},
   "cell_type": "code",
   "outputs": [],
   "execution_count": null,
   "source": "",
   "id": "e1de11270ac480cc"
  },
  {
   "metadata": {},
   "cell_type": "markdown",
   "source": "#### Changes of the spectrum while changing parameter $b$",
   "id": "cb9ebacb771ab32e"
  },
  {
   "metadata": {},
   "cell_type": "code",
   "outputs": [],
   "execution_count": null,
   "source": "",
   "id": "58b1e135f1392e1b"
  },
  {
   "metadata": {},
   "cell_type": "markdown",
   "source": "#### Obtained wave functions",
   "id": "6b6be106e1fcc88b"
  },
  {
   "metadata": {},
   "cell_type": "code",
   "outputs": [],
   "execution_count": null,
   "source": "",
   "id": "ff181409e2eb362d"
  },
  {
   "metadata": {},
   "cell_type": "markdown",
   "source": "#### Bound-state energies and eigenfunctions for a four-well rectangular potential energy function",
   "id": "c8e0f4109084f7b1"
  },
  {
   "metadata": {},
   "cell_type": "code",
   "outputs": [],
   "execution_count": null,
   "source": "",
   "id": "bc81eca0e3a24b5c"
  },
  {
   "metadata": {},
   "cell_type": "markdown",
   "source": "### Formation of Zones",
   "id": "fd5948375191b8e4"
  },
  {
   "metadata": {},
   "cell_type": "code",
   "outputs": [],
   "execution_count": null,
   "source": "",
   "id": "b90226e942078e00"
  },
  {
   "metadata": {},
   "cell_type": "markdown",
   "source": [
    "## 2. Two-dimensional Case\n",
    "$$V(r, \\phi)=\\begin{cases} V_0r^2, & r<R_0, \\\\ V_0,  & r>R_0\\end{cases},$$\n",
    "where $V_0 = 50$ is the barrier height and $R_0 = 1$ is the radius of a well in natural units"
   ],
   "id": "9598656dbdaf4096"
  },
  {
   "metadata": {},
   "cell_type": "markdown",
   "source": " ### Lowest energy-levels",
   "id": "9181f0d85d56492f"
  },
  {
   "metadata": {},
   "cell_type": "code",
   "outputs": [],
   "execution_count": null,
   "source": "",
   "id": "aaa0d58cd7b61885"
  },
  {
   "metadata": {},
   "cell_type": "markdown",
   "source": "### Degenerate levels",
   "id": "87c8cb1688f9ae"
  },
  {
   "metadata": {},
   "cell_type": "code",
   "outputs": [],
   "execution_count": null,
   "source": "",
   "id": "799679712f14ec50"
  }
 ],
 "metadata": {
  "kernelspec": {
   "display_name": "Python 3",
   "language": "python",
   "name": "python3"
  },
  "language_info": {
   "codemirror_mode": {
    "name": "ipython",
    "version": 2
   },
   "file_extension": ".py",
   "mimetype": "text/x-python",
   "name": "python",
   "nbconvert_exporter": "python",
   "pygments_lexer": "ipython2",
   "version": "2.7.6"
  }
 },
 "nbformat": 4,
 "nbformat_minor": 5
}
